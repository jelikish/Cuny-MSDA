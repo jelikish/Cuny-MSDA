{
 "cells": [
  {
   "cell_type": "code",
   "execution_count": 210,
   "metadata": {
    "collapsed": false
   },
   "outputs": [
    {
     "name": "stdout",
     "output_type": "stream",
     "text": [
      "1 loop, best of 3: 585 ms per loop\n"
     ]
    }
   ],
   "source": [
    "%%timeit\n",
    "#From Hw11\n",
    "import pandas as pd\n",
    "import numpy as np\n",
    "aapl = pd.read_csv('c:/data/apple.2011.csv', sep=',')\n",
    "aapl.columns = ['Date', 'Last','Change']\n",
    "aapl.iloc[0,2] = 0\n",
    "mean = pd.to_numeric(aapl['Change']).mean()\n",
    "sd = pd.to_numeric(aapl['Change']).std()\n",
    "aapl20 = aapl['Last'].iloc[-1]\n",
    "def get20day(last):\n",
    "    for i in range(1,20):\n",
    "        last = last*(1+np.random.normal(mean, sd, 20)[i])\n",
    "    return(last)\n",
    "\n",
    "mc = np.zeros(10000)\n",
    "for i in range(1,10000):\n",
    "    mc[i]=get20day(aapl20)\n",
    "mc.sort()\n",
    "mc[100]"
   ]
  },
  {
   "cell_type": "code",
   "execution_count": null,
   "metadata": {
    "collapsed": true
   },
   "outputs": [],
   "source": []
  },
  {
   "cell_type": "markdown",
   "metadata": {},
   "source": [
    "Parallel Code"
   ]
  },
  {
   "cell_type": "code",
   "execution_count": 211,
   "metadata": {
    "collapsed": false
   },
   "outputs": [],
   "source": [
    "from IPython import parallel \n",
    "clients = parallel.Client()\n",
    "clients.block = True"
   ]
  },
  {
   "cell_type": "code",
   "execution_count": 212,
   "metadata": {
    "collapsed": false
   },
   "outputs": [
    {
     "data": {
      "text/plain": [
       "[0, 1, 2, 3]"
      ]
     },
     "execution_count": 212,
     "metadata": {},
     "output_type": "execute_result"
    }
   ],
   "source": [
    "clients.ids"
   ]
  },
  {
   "cell_type": "code",
   "execution_count": 213,
   "metadata": {
    "collapsed": false
   },
   "outputs": [],
   "source": [
    "import pandas as pd\n",
    "import numpy as np\n",
    "import IPython\n",
    "\n",
    "aapl = pd.read_csv('c:/data/apple.2011.csv', sep=',')\n",
    "aapl.columns = ['Date', 'Last','Change']\n",
    "aapl.iloc[0,2] = 0\n",
    "mean = pd.to_numeric(aapl['Change']).mean()\n",
    "sd = pd.to_numeric(aapl['Change']).std()\n",
    "\n",
    "\n",
    "\n",
    "#def get20day(last):\n",
    "#    for i in range(1,20):\n",
    "#        last = last*(1+np.random.normal(mean, sd, 20)[i])\n",
    "#    return(last)\n",
    "\n",
    "@dview.remote(block=True)\n",
    "def function():\n",
    "    mc = np.zeros(2500)\n",
    "    for j in range(1,2500):\n",
    "        aapl20 = aapl['Last'].iloc[-1]\n",
    "        for i in range(1,20):\n",
    "            aapl20 = aapl20*(1+np.random.normal(mean, sd, 20)[i])\n",
    "        mc[j] = aapl20\n",
    "    mc.sort()\n",
    "    return(mc)"
   ]
  },
  {
   "cell_type": "code",
   "execution_count": 214,
   "metadata": {
    "collapsed": false
   },
   "outputs": [
    {
     "name": "stdout",
     "output_type": "stream",
     "text": [
      "1 loop, best of 3: 296 ms per loop\n"
     ]
    }
   ],
   "source": [
    "%%timeit\n",
    "r=function()"
   ]
  },
  {
   "cell_type": "code",
   "execution_count": 215,
   "metadata": {
    "collapsed": false
   },
   "outputs": [
    {
     "data": {
      "text/plain": [
       "[array([   0.        ,  311.04010073,  318.90883257, ...,  521.05828176,\n",
       "         531.21645473,  531.54781976]),\n",
       " array([   0.        ,  313.03370474,  313.84415397, ...,  528.82194792,\n",
       "         529.02063443,  532.07420262]),\n",
       " array([   0.        ,  317.53088179,  317.88348963, ...,  527.73176625,\n",
       "         527.74177693,  530.20165459]),\n",
       " array([   0.        ,  312.45544753,  316.02776222, ...,  515.29023828,\n",
       "         518.85966957,  519.12020015])]"
      ]
     },
     "execution_count": 215,
     "metadata": {},
     "output_type": "execute_result"
    }
   ],
   "source": [
    "r"
   ]
  },
  {
   "cell_type": "markdown",
   "metadata": {},
   "source": [
    "We got 591 ms when ran as a single process and 301 ms execution time when ran on 4 cores, so there is a clear improvement."
   ]
  },
  {
   "cell_type": "code",
   "execution_count": null,
   "metadata": {
    "collapsed": true
   },
   "outputs": [],
   "source": []
  }
 ],
 "metadata": {
  "kernelspec": {
   "display_name": "Python 2",
   "language": "python",
   "name": "python2"
  },
  "language_info": {
   "codemirror_mode": {
    "name": "ipython",
    "version": 2
   },
   "file_extension": ".py",
   "mimetype": "text/x-python",
   "name": "python",
   "nbconvert_exporter": "python",
   "pygments_lexer": "ipython2",
   "version": "2.7.10"
  }
 },
 "nbformat": 4,
 "nbformat_minor": 2
}
