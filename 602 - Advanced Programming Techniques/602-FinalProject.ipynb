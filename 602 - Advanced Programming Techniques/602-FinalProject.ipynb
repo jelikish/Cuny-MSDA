{
 "cells": [
  {
   "cell_type": "markdown",
   "metadata": {},
   "source": [
    "# Joseph Elikishvili\n",
    "# IS602 - Final Project"
   ]
  },
  {
   "cell_type": "code",
   "execution_count": 697,
   "metadata": {
    "collapsed": false
   },
   "outputs": [
    {
     "data": {
      "text/html": [
       "<div>\n",
       "<table border=\"1\" class=\"dataframe\">\n",
       "  <thead>\n",
       "    <tr style=\"text-align: right;\">\n",
       "      <th></th>\n",
       "      <th>Ticker</th>\n",
       "      <th>Quantity</th>\n",
       "    </tr>\n",
       "  </thead>\n",
       "  <tbody>\n",
       "    <tr>\n",
       "      <th>0</th>\n",
       "      <td>AAPL</td>\n",
       "      <td>100</td>\n",
       "    </tr>\n",
       "    <tr>\n",
       "      <th>1</th>\n",
       "      <td>GOOGL</td>\n",
       "      <td>20</td>\n",
       "    </tr>\n",
       "    <tr>\n",
       "      <th>2</th>\n",
       "      <td>BAC</td>\n",
       "      <td>500</td>\n",
       "    </tr>\n",
       "    <tr>\n",
       "      <th>3</th>\n",
       "      <td>JPM</td>\n",
       "      <td>100</td>\n",
       "    </tr>\n",
       "    <tr>\n",
       "      <th>4</th>\n",
       "      <td>JNJ</td>\n",
       "      <td>90</td>\n",
       "    </tr>\n",
       "    <tr>\n",
       "      <th>5</th>\n",
       "      <td>IBM</td>\n",
       "      <td>80</td>\n",
       "    </tr>\n",
       "    <tr>\n",
       "      <th>6</th>\n",
       "      <td>KO</td>\n",
       "      <td>200</td>\n",
       "    </tr>\n",
       "    <tr>\n",
       "      <th>7</th>\n",
       "      <td>WMT</td>\n",
       "      <td>120</td>\n",
       "    </tr>\n",
       "    <tr>\n",
       "      <th>8</th>\n",
       "      <td>LLY</td>\n",
       "      <td>90</td>\n",
       "    </tr>\n",
       "    <tr>\n",
       "      <th>9</th>\n",
       "      <td>PFE</td>\n",
       "      <td>250</td>\n",
       "    </tr>\n",
       "  </tbody>\n",
       "</table>\n",
       "</div>"
      ],
      "text/plain": [
       "  Ticker  Quantity\n",
       "0   AAPL       100\n",
       "1  GOOGL        20\n",
       "2    BAC       500\n",
       "3    JPM       100\n",
       "4    JNJ        90\n",
       "5    IBM        80\n",
       "6     KO       200\n",
       "7    WMT       120\n",
       "8    LLY        90\n",
       "9    PFE       250"
      ]
     },
     "execution_count": 697,
     "metadata": {},
     "output_type": "execute_result"
    }
   ],
   "source": [
    "from yahoo_finance import Share\n",
    "import pandas as pd\n",
    "\n",
    "#read the file containing 10 stock tickers and quantity.\n",
    "port = pd.read_csv('c:/data/602portfolio.csv', sep=\",\")\n",
    "port"
   ]
  },
  {
   "cell_type": "code",
   "execution_count": 698,
   "metadata": {
    "collapsed": false
   },
   "outputs": [
    {
     "data": {
      "text/html": [
       "<div>\n",
       "<table border=\"1\" class=\"dataframe\">\n",
       "  <thead>\n",
       "    <tr style=\"text-align: right;\">\n",
       "      <th></th>\n",
       "      <th>Dividend</th>\n",
       "      <th>PE</th>\n",
       "      <th>Ticker</th>\n",
       "    </tr>\n",
       "  </thead>\n",
       "  <tbody>\n",
       "    <tr>\n",
       "      <th>0</th>\n",
       "      <td>1.95</td>\n",
       "      <td>14.02</td>\n",
       "      <td>AAPL</td>\n",
       "    </tr>\n",
       "    <tr>\n",
       "      <th>1</th>\n",
       "      <td>NaN</td>\n",
       "      <td>29.57</td>\n",
       "      <td>GOOGL</td>\n",
       "    </tr>\n",
       "    <tr>\n",
       "      <th>2</th>\n",
       "      <td>1.33</td>\n",
       "      <td>16.53</td>\n",
       "      <td>BAC</td>\n",
       "    </tr>\n",
       "    <tr>\n",
       "      <th>3</th>\n",
       "      <td>2.21</td>\n",
       "      <td>15.02</td>\n",
       "      <td>JPM</td>\n",
       "    </tr>\n",
       "    <tr>\n",
       "      <th>4</th>\n",
       "      <td>2.78</td>\n",
       "      <td>20.35</td>\n",
       "      <td>JNJ</td>\n",
       "    </tr>\n",
       "    <tr>\n",
       "      <th>5</th>\n",
       "      <td>3.35</td>\n",
       "      <td>13.58</td>\n",
       "      <td>IBM</td>\n",
       "    </tr>\n",
       "    <tr>\n",
       "      <th>6</th>\n",
       "      <td>3.37</td>\n",
       "      <td>25.23</td>\n",
       "      <td>KO</td>\n",
       "    </tr>\n",
       "    <tr>\n",
       "      <th>7</th>\n",
       "      <td>2.81</td>\n",
       "      <td>15.08</td>\n",
       "      <td>WMT</td>\n",
       "    </tr>\n",
       "    <tr>\n",
       "      <th>8</th>\n",
       "      <td>2.84</td>\n",
       "      <td>32.10</td>\n",
       "      <td>LLY</td>\n",
       "    </tr>\n",
       "    <tr>\n",
       "      <th>9</th>\n",
       "      <td>3.95</td>\n",
       "      <td>32.61</td>\n",
       "      <td>PFE</td>\n",
       "    </tr>\n",
       "  </tbody>\n",
       "</table>\n",
       "</div>"
      ],
      "text/plain": [
       "   Dividend     PE Ticker\n",
       "0      1.95  14.02   AAPL\n",
       "1       NaN  29.57  GOOGL\n",
       "2      1.33  16.53    BAC\n",
       "3      2.21  15.02    JPM\n",
       "4      2.78  20.35    JNJ\n",
       "5      3.35  13.58    IBM\n",
       "6      3.37  25.23     KO\n",
       "7      2.81  15.08    WMT\n",
       "8      2.84  32.10    LLY\n",
       "9      3.95  32.61    PFE"
      ]
     },
     "execution_count": 698,
     "metadata": {},
     "output_type": "execute_result"
    }
   ],
   "source": [
    "#Collecting PE and Dividend data for the stocks in the list\n",
    "stock_data = []\n",
    "\n",
    "for i in port['Ticker']:\n",
    "    share = Share(i)\n",
    "    stock_data.append({'Ticker': i, 'Dividend' : share.get_dividend_yield(), 'PE' : share.get_price_earnings_ratio()})\n",
    "\n",
    "stock_data = pd.DataFrame(stock_data)\n",
    "stock_data['Dividend'] = stock_data['Dividend'].astype(float)\n",
    "stock_data['PE'] = stock_data['PE'].astype(float)\n",
    "\n",
    "stock_data\n"
   ]
  },
  {
   "cell_type": "markdown",
   "metadata": {},
   "source": [
    "#### Next I will need to calculate value of each position and then determine the relative percentage  of entire portfolio so that we can proceed to calculating the p/e weight of each position so that I can calculate the total p/e and dividend for entire portfolio."
   ]
  },
  {
   "cell_type": "code",
   "execution_count": null,
   "metadata": {
    "collapsed": true
   },
   "outputs": [],
   "source": []
  },
  {
   "cell_type": "code",
   "execution_count": 699,
   "metadata": {
    "collapsed": false
   },
   "outputs": [
    {
     "data": {
      "text/html": [
       "<div>\n",
       "<table border=\"1\" class=\"dataframe\">\n",
       "  <thead>\n",
       "    <tr style=\"text-align: right;\">\n",
       "      <th></th>\n",
       "      <th>Ticker</th>\n",
       "      <th>Quantity</th>\n",
       "      <th>LastPrice</th>\n",
       "    </tr>\n",
       "  </thead>\n",
       "  <tbody>\n",
       "    <tr>\n",
       "      <th>0</th>\n",
       "      <td>AAPL</td>\n",
       "      <td>100</td>\n",
       "      <td>116.52</td>\n",
       "    </tr>\n",
       "    <tr>\n",
       "      <th>1</th>\n",
       "      <td>GOOGL</td>\n",
       "      <td>20</td>\n",
       "      <td>807.80</td>\n",
       "    </tr>\n",
       "    <tr>\n",
       "      <th>2</th>\n",
       "      <td>BAC</td>\n",
       "      <td>500</td>\n",
       "      <td>22.60</td>\n",
       "    </tr>\n",
       "    <tr>\n",
       "      <th>3</th>\n",
       "      <td>JPM</td>\n",
       "      <td>100</td>\n",
       "      <td>87.05</td>\n",
       "    </tr>\n",
       "    <tr>\n",
       "      <th>4</th>\n",
       "      <td>JNJ</td>\n",
       "      <td>90</td>\n",
       "      <td>115.96</td>\n",
       "    </tr>\n",
       "    <tr>\n",
       "      <th>5</th>\n",
       "      <td>IBM</td>\n",
       "      <td>80</td>\n",
       "      <td>166.71</td>\n",
       "    </tr>\n",
       "    <tr>\n",
       "      <th>6</th>\n",
       "      <td>KO</td>\n",
       "      <td>200</td>\n",
       "      <td>41.60</td>\n",
       "    </tr>\n",
       "    <tr>\n",
       "      <th>7</th>\n",
       "      <td>WMT</td>\n",
       "      <td>120</td>\n",
       "      <td>69.54</td>\n",
       "    </tr>\n",
       "    <tr>\n",
       "      <th>8</th>\n",
       "      <td>LLY</td>\n",
       "      <td>90</td>\n",
       "      <td>73.79</td>\n",
       "    </tr>\n",
       "    <tr>\n",
       "      <th>9</th>\n",
       "      <td>PFE</td>\n",
       "      <td>250</td>\n",
       "      <td>32.48</td>\n",
       "    </tr>\n",
       "  </tbody>\n",
       "</table>\n",
       "</div>"
      ],
      "text/plain": [
       "  Ticker  Quantity LastPrice\n",
       "0   AAPL       100    116.52\n",
       "1  GOOGL        20    807.80\n",
       "2    BAC       500     22.60\n",
       "3    JPM       100     87.05\n",
       "4    JNJ        90    115.96\n",
       "5    IBM        80    166.71\n",
       "6     KO       200     41.60\n",
       "7    WMT       120     69.54\n",
       "8    LLY        90     73.79\n",
       "9    PFE       250     32.48"
      ]
     },
     "execution_count": 699,
     "metadata": {},
     "output_type": "execute_result"
    }
   ],
   "source": [
    "#Populating last prices\n",
    "\n",
    "lastprices = []\n",
    "\n",
    "for i in port['Ticker']:\n",
    "    share = Share(i)\n",
    "    lastprices.append(share.get_price())\n",
    "\n",
    "port['LastPrice'] = pd.DataFrame(lastprices)\n",
    "port "
   ]
  },
  {
   "cell_type": "code",
   "execution_count": 700,
   "metadata": {
    "collapsed": false
   },
   "outputs": [
    {
     "data": {
      "text/html": [
       "<div>\n",
       "<table border=\"1\" class=\"dataframe\">\n",
       "  <thead>\n",
       "    <tr style=\"text-align: right;\">\n",
       "      <th></th>\n",
       "      <th>Ticker</th>\n",
       "      <th>Quantity</th>\n",
       "      <th>LastPrice</th>\n",
       "      <th>TotalValue</th>\n",
       "      <th>Weight</th>\n",
       "    </tr>\n",
       "  </thead>\n",
       "  <tbody>\n",
       "    <tr>\n",
       "      <th>0</th>\n",
       "      <td>AAPL</td>\n",
       "      <td>100</td>\n",
       "      <td>116.52</td>\n",
       "      <td>11652.0</td>\n",
       "      <td>0.113113</td>\n",
       "    </tr>\n",
       "    <tr>\n",
       "      <th>1</th>\n",
       "      <td>GOOGL</td>\n",
       "      <td>20</td>\n",
       "      <td>807.80</td>\n",
       "      <td>16156.0</td>\n",
       "      <td>0.156836</td>\n",
       "    </tr>\n",
       "    <tr>\n",
       "      <th>2</th>\n",
       "      <td>BAC</td>\n",
       "      <td>500</td>\n",
       "      <td>22.60</td>\n",
       "      <td>11300.0</td>\n",
       "      <td>0.109696</td>\n",
       "    </tr>\n",
       "    <tr>\n",
       "      <th>3</th>\n",
       "      <td>JPM</td>\n",
       "      <td>100</td>\n",
       "      <td>87.05</td>\n",
       "      <td>8705.0</td>\n",
       "      <td>0.084505</td>\n",
       "    </tr>\n",
       "    <tr>\n",
       "      <th>4</th>\n",
       "      <td>JNJ</td>\n",
       "      <td>90</td>\n",
       "      <td>115.96</td>\n",
       "      <td>10436.4</td>\n",
       "      <td>0.101312</td>\n",
       "    </tr>\n",
       "    <tr>\n",
       "      <th>5</th>\n",
       "      <td>IBM</td>\n",
       "      <td>80</td>\n",
       "      <td>166.71</td>\n",
       "      <td>13336.8</td>\n",
       "      <td>0.129468</td>\n",
       "    </tr>\n",
       "    <tr>\n",
       "      <th>6</th>\n",
       "      <td>KO</td>\n",
       "      <td>200</td>\n",
       "      <td>41.60</td>\n",
       "      <td>8320.0</td>\n",
       "      <td>0.080767</td>\n",
       "    </tr>\n",
       "    <tr>\n",
       "      <th>7</th>\n",
       "      <td>WMT</td>\n",
       "      <td>120</td>\n",
       "      <td>69.54</td>\n",
       "      <td>8344.8</td>\n",
       "      <td>0.081008</td>\n",
       "    </tr>\n",
       "    <tr>\n",
       "      <th>8</th>\n",
       "      <td>LLY</td>\n",
       "      <td>90</td>\n",
       "      <td>73.79</td>\n",
       "      <td>6641.1</td>\n",
       "      <td>0.064469</td>\n",
       "    </tr>\n",
       "    <tr>\n",
       "      <th>9</th>\n",
       "      <td>PFE</td>\n",
       "      <td>250</td>\n",
       "      <td>32.48</td>\n",
       "      <td>8120.0</td>\n",
       "      <td>0.078826</td>\n",
       "    </tr>\n",
       "  </tbody>\n",
       "</table>\n",
       "</div>"
      ],
      "text/plain": [
       "  Ticker  Quantity LastPrice  TotalValue    Weight\n",
       "0   AAPL       100    116.52     11652.0  0.113113\n",
       "1  GOOGL        20    807.80     16156.0  0.156836\n",
       "2    BAC       500     22.60     11300.0  0.109696\n",
       "3    JPM       100     87.05      8705.0  0.084505\n",
       "4    JNJ        90    115.96     10436.4  0.101312\n",
       "5    IBM        80    166.71     13336.8  0.129468\n",
       "6     KO       200     41.60      8320.0  0.080767\n",
       "7    WMT       120     69.54      8344.8  0.081008\n",
       "8    LLY        90     73.79      6641.1  0.064469\n",
       "9    PFE       250     32.48      8120.0  0.078826"
      ]
     },
     "execution_count": 700,
     "metadata": {},
     "output_type": "execute_result"
    }
   ],
   "source": [
    "#Calculating TotalValue and weight of each position in portfolio\n",
    "port['TotalValue'] = port['Quantity'].astype(float)*port['LastPrice'].astype(float)\n",
    "port['Weight'] = port['TotalValue']/port['TotalValue'].sum()\n",
    "port"
   ]
  },
  {
   "cell_type": "code",
   "execution_count": 701,
   "metadata": {
    "collapsed": false
   },
   "outputs": [
    {
     "data": {
      "text/html": [
       "<div>\n",
       "<table border=\"1\" class=\"dataframe\">\n",
       "  <thead>\n",
       "    <tr style=\"text-align: right;\">\n",
       "      <th></th>\n",
       "      <th>Ticker</th>\n",
       "      <th>Quantity</th>\n",
       "      <th>LastPrice</th>\n",
       "      <th>TotalValue</th>\n",
       "      <th>Weight</th>\n",
       "      <th>WeightedPE</th>\n",
       "      <th>WeightedDiv</th>\n",
       "    </tr>\n",
       "  </thead>\n",
       "  <tbody>\n",
       "    <tr>\n",
       "      <th>0</th>\n",
       "      <td>AAPL</td>\n",
       "      <td>100</td>\n",
       "      <td>116.52</td>\n",
       "      <td>11652.0</td>\n",
       "      <td>0.113113</td>\n",
       "      <td>1.585843</td>\n",
       "      <td>0.220570</td>\n",
       "    </tr>\n",
       "    <tr>\n",
       "      <th>1</th>\n",
       "      <td>GOOGL</td>\n",
       "      <td>20</td>\n",
       "      <td>807.80</td>\n",
       "      <td>16156.0</td>\n",
       "      <td>0.156836</td>\n",
       "      <td>4.637639</td>\n",
       "      <td>NaN</td>\n",
       "    </tr>\n",
       "    <tr>\n",
       "      <th>2</th>\n",
       "      <td>BAC</td>\n",
       "      <td>500</td>\n",
       "      <td>22.60</td>\n",
       "      <td>11300.0</td>\n",
       "      <td>0.109696</td>\n",
       "      <td>1.813272</td>\n",
       "      <td>0.145895</td>\n",
       "    </tr>\n",
       "    <tr>\n",
       "      <th>3</th>\n",
       "      <td>JPM</td>\n",
       "      <td>100</td>\n",
       "      <td>87.05</td>\n",
       "      <td>8705.0</td>\n",
       "      <td>0.084505</td>\n",
       "      <td>1.269260</td>\n",
       "      <td>0.186755</td>\n",
       "    </tr>\n",
       "    <tr>\n",
       "      <th>4</th>\n",
       "      <td>JNJ</td>\n",
       "      <td>90</td>\n",
       "      <td>115.96</td>\n",
       "      <td>10436.4</td>\n",
       "      <td>0.101312</td>\n",
       "      <td>2.061707</td>\n",
       "      <td>0.281648</td>\n",
       "    </tr>\n",
       "    <tr>\n",
       "      <th>5</th>\n",
       "      <td>IBM</td>\n",
       "      <td>80</td>\n",
       "      <td>166.71</td>\n",
       "      <td>13336.8</td>\n",
       "      <td>0.129468</td>\n",
       "      <td>1.758179</td>\n",
       "      <td>0.433719</td>\n",
       "    </tr>\n",
       "    <tr>\n",
       "      <th>6</th>\n",
       "      <td>KO</td>\n",
       "      <td>200</td>\n",
       "      <td>41.60</td>\n",
       "      <td>8320.0</td>\n",
       "      <td>0.080767</td>\n",
       "      <td>2.037757</td>\n",
       "      <td>0.272186</td>\n",
       "    </tr>\n",
       "    <tr>\n",
       "      <th>7</th>\n",
       "      <td>WMT</td>\n",
       "      <td>120</td>\n",
       "      <td>69.54</td>\n",
       "      <td>8344.8</td>\n",
       "      <td>0.081008</td>\n",
       "      <td>1.221600</td>\n",
       "      <td>0.227632</td>\n",
       "    </tr>\n",
       "    <tr>\n",
       "      <th>8</th>\n",
       "      <td>LLY</td>\n",
       "      <td>90</td>\n",
       "      <td>73.79</td>\n",
       "      <td>6641.1</td>\n",
       "      <td>0.064469</td>\n",
       "      <td>2.069459</td>\n",
       "      <td>0.183092</td>\n",
       "    </tr>\n",
       "    <tr>\n",
       "      <th>9</th>\n",
       "      <td>PFE</td>\n",
       "      <td>250</td>\n",
       "      <td>32.48</td>\n",
       "      <td>8120.0</td>\n",
       "      <td>0.078826</td>\n",
       "      <td>2.570506</td>\n",
       "      <td>0.311361</td>\n",
       "    </tr>\n",
       "  </tbody>\n",
       "</table>\n",
       "</div>"
      ],
      "text/plain": [
       "  Ticker  Quantity LastPrice  TotalValue    Weight  WeightedPE  WeightedDiv\n",
       "0   AAPL       100    116.52     11652.0  0.113113    1.585843     0.220570\n",
       "1  GOOGL        20    807.80     16156.0  0.156836    4.637639          NaN\n",
       "2    BAC       500     22.60     11300.0  0.109696    1.813272     0.145895\n",
       "3    JPM       100     87.05      8705.0  0.084505    1.269260     0.186755\n",
       "4    JNJ        90    115.96     10436.4  0.101312    2.061707     0.281648\n",
       "5    IBM        80    166.71     13336.8  0.129468    1.758179     0.433719\n",
       "6     KO       200     41.60      8320.0  0.080767    2.037757     0.272186\n",
       "7    WMT       120     69.54      8344.8  0.081008    1.221600     0.227632\n",
       "8    LLY        90     73.79      6641.1  0.064469    2.069459     0.183092\n",
       "9    PFE       250     32.48      8120.0  0.078826    2.570506     0.311361"
      ]
     },
     "execution_count": 701,
     "metadata": {},
     "output_type": "execute_result"
    }
   ],
   "source": [
    "#Calculating weighted PE and Dividend for each of the positions\n",
    "\n",
    "port['WeightedPE'] = stock_data['PE']*port['Weight']\n",
    "port['WeightedDiv'] = stock_data['Dividend']*port['Weight']\n",
    "port"
   ]
  },
  {
   "cell_type": "code",
   "execution_count": 702,
   "metadata": {
    "collapsed": false
   },
   "outputs": [
    {
     "data": {
      "text/plain": [
       "21.025221677841728"
      ]
     },
     "execution_count": 702,
     "metadata": {},
     "output_type": "execute_result"
    }
   ],
   "source": [
    "#Calculating PE for entire Portfolio\n",
    "portPE = port['WeightedPE'].sum()\n",
    "portPE"
   ]
  },
  {
   "cell_type": "code",
   "execution_count": 703,
   "metadata": {
    "collapsed": false
   },
   "outputs": [
    {
     "data": {
      "text/plain": [
       "2.2628597417196619"
      ]
     },
     "execution_count": 703,
     "metadata": {},
     "output_type": "execute_result"
    }
   ],
   "source": [
    "#Calculating Dividend for entire Portfolio\n",
    "PortDiv = port['WeightedDiv'].sum()\n",
    "PortDiv"
   ]
  },
  {
   "cell_type": "markdown",
   "metadata": {},
   "source": [
    "#### Next I will download market data for all tickers in the portfolio"
   ]
  },
  {
   "cell_type": "code",
   "execution_count": 704,
   "metadata": {
    "collapsed": true
   },
   "outputs": [],
   "source": [
    "#Download mArket data for all Tickers for 2016 and store in dictionary d as dataframe per Ticker.\n",
    "d = {}\n",
    "\n",
    "for i in port['Ticker']:\n",
    "    share = Share(i)\n",
    "    prices = share.get_historical('2016-01-01', '2016-12-23')\n",
    "    d[i] = pd.DataFrame(prices)\n",
    "     "
   ]
  },
  {
   "cell_type": "markdown",
   "metadata": {},
   "source": [
    "#### Next I will be calculating position value (shares x last daily price) so that I can build a plot later on and have a daily snapshot of each of the positions."
   ]
  },
  {
   "cell_type": "code",
   "execution_count": 721,
   "metadata": {
    "collapsed": false
   },
   "outputs": [],
   "source": [
    "#Function Calculates returns position value for each stock for entire year \n",
    "def dailycalc(ticker):\n",
    "    perf =[]\n",
    "    for i in range(1,247):\n",
    "        perf.append({'Date': d[ticker]['Date'].iloc[i], ticker : float(d[ticker]['Close'].iloc[i])* int(port[port['Ticker']==ticker]['Quantity'])})\n",
    "    return(perf)\n",
    "    \n",
    "#Loop calls the above function for each of the tickers\n",
    "positions = {}\n",
    "for i in port['Ticker']:\n",
    "    temp = dailycalc(i)\n",
    "    positions[i] = pd.DataFrame(temp)\n"
   ]
  },
  {
   "cell_type": "code",
   "execution_count": null,
   "metadata": {
    "collapsed": true
   },
   "outputs": [],
   "source": []
  },
  {
   "cell_type": "code",
   "execution_count": 706,
   "metadata": {
    "collapsed": false
   },
   "outputs": [
    {
     "data": {
      "text/html": [
       "<div>\n",
       "<table border=\"1\" class=\"dataframe\">\n",
       "  <thead>\n",
       "    <tr style=\"text-align: right;\">\n",
       "      <th></th>\n",
       "      <th>Date</th>\n",
       "      <th>AAPL</th>\n",
       "      <th>GOOGL</th>\n",
       "      <th>BAC</th>\n",
       "      <th>JPM</th>\n",
       "      <th>JNJ</th>\n",
       "      <th>IBM</th>\n",
       "      <th>KO</th>\n",
       "      <th>WMT</th>\n",
       "      <th>LLY</th>\n",
       "      <th>PFE</th>\n",
       "    </tr>\n",
       "  </thead>\n",
       "  <tbody>\n",
       "    <tr>\n",
       "      <th>0</th>\n",
       "      <td>2016-12-22</td>\n",
       "      <td>11629.0001</td>\n",
       "      <td>16193.59986</td>\n",
       "      <td>11270.0005</td>\n",
       "      <td>8688.9999</td>\n",
       "      <td>10389.60018</td>\n",
       "      <td>13364.79984</td>\n",
       "      <td>8309.9998</td>\n",
       "      <td>8350.79952</td>\n",
       "      <td>6593.40018</td>\n",
       "      <td>8085.0000</td>\n",
       "    </tr>\n",
       "    <tr>\n",
       "      <th>1</th>\n",
       "      <td>2016-12-21</td>\n",
       "      <td>11705.9998</td>\n",
       "      <td>16244.00024</td>\n",
       "      <td>11314.9995</td>\n",
       "      <td>8675.0000</td>\n",
       "      <td>10377.89982</td>\n",
       "      <td>13386.40016</td>\n",
       "      <td>8314.0000</td>\n",
       "      <td>8548.79976</td>\n",
       "      <td>6592.50000</td>\n",
       "      <td>8100.0005</td>\n",
       "    </tr>\n",
       "    <tr>\n",
       "      <th>2</th>\n",
       "      <td>2016-12-20</td>\n",
       "      <td>11694.9997</td>\n",
       "      <td>16304.00024</td>\n",
       "      <td>11354.9995</td>\n",
       "      <td>8652.9999</td>\n",
       "      <td>10409.40036</td>\n",
       "      <td>13408.00048</td>\n",
       "      <td>8332.0000</td>\n",
       "      <td>8618.40000</td>\n",
       "      <td>6604.19973</td>\n",
       "      <td>8212.4995</td>\n",
       "    </tr>\n",
       "  </tbody>\n",
       "</table>\n",
       "</div>"
      ],
      "text/plain": [
       "         Date        AAPL        GOOGL         BAC        JPM          JNJ  \\\n",
       "0  2016-12-22  11629.0001  16193.59986  11270.0005  8688.9999  10389.60018   \n",
       "1  2016-12-21  11705.9998  16244.00024  11314.9995  8675.0000  10377.89982   \n",
       "2  2016-12-20  11694.9997  16304.00024  11354.9995  8652.9999  10409.40036   \n",
       "\n",
       "           IBM         KO         WMT         LLY        PFE  \n",
       "0  13364.79984  8309.9998  8350.79952  6593.40018  8085.0000  \n",
       "1  13386.40016  8314.0000  8548.79976  6592.50000  8100.0005  \n",
       "2  13408.00048  8332.0000  8618.40000  6604.19973  8212.4995  "
      ]
     },
     "execution_count": 706,
     "metadata": {},
     "output_type": "execute_result"
    }
   ],
   "source": [
    "#Combine daily position values into one dataframe \n",
    "full = positions['AAPL']\n",
    "for i in port['Ticker']:\n",
    "    full[i] = positions[i][i]\n",
    "full = full[['Date', 'AAPL', 'GOOGL', 'BAC', 'JPM', 'JNJ', 'IBM', 'KO', 'WMT', 'LLY', 'PFE']]\n",
    "full.head(3)"
   ]
  },
  {
   "cell_type": "markdown",
   "metadata": {},
   "source": [
    "#### Calculating total daily portfolio value"
   ]
  },
  {
   "cell_type": "code",
   "execution_count": 707,
   "metadata": {
    "collapsed": false
   },
   "outputs": [
    {
     "name": "stderr",
     "output_type": "stream",
     "text": [
      "c:\\python27\\lib\\site-packages\\ipykernel\\__main__.py:3: SettingWithCopyWarning: \n",
      "A value is trying to be set on a copy of a slice from a DataFrame.\n",
      "Try using .loc[row_indexer,col_indexer] = value instead\n",
      "\n",
      "See the caveats in the documentation: http://pandas.pydata.org/pandas-docs/stable/indexing.html#indexing-view-versus-copy\n",
      "  app.launch_new_instance()\n"
     ]
    },
    {
     "data": {
      "text/html": [
       "<div>\n",
       "<table border=\"1\" class=\"dataframe\">\n",
       "  <thead>\n",
       "    <tr style=\"text-align: right;\">\n",
       "      <th></th>\n",
       "      <th>Date</th>\n",
       "      <th>AAPL</th>\n",
       "      <th>GOOGL</th>\n",
       "      <th>BAC</th>\n",
       "      <th>JPM</th>\n",
       "      <th>JNJ</th>\n",
       "      <th>IBM</th>\n",
       "      <th>KO</th>\n",
       "      <th>WMT</th>\n",
       "      <th>LLY</th>\n",
       "      <th>PFE</th>\n",
       "      <th>Total</th>\n",
       "    </tr>\n",
       "  </thead>\n",
       "  <tbody>\n",
       "    <tr>\n",
       "      <th>0</th>\n",
       "      <td>2016-12-22</td>\n",
       "      <td>11629.0001</td>\n",
       "      <td>16193.59986</td>\n",
       "      <td>11270.0005</td>\n",
       "      <td>8688.9999</td>\n",
       "      <td>10389.60018</td>\n",
       "      <td>13364.79984</td>\n",
       "      <td>8309.9998</td>\n",
       "      <td>8350.79952</td>\n",
       "      <td>6593.40018</td>\n",
       "      <td>8085.0000</td>\n",
       "      <td>102875.19988</td>\n",
       "    </tr>\n",
       "    <tr>\n",
       "      <th>1</th>\n",
       "      <td>2016-12-21</td>\n",
       "      <td>11705.9998</td>\n",
       "      <td>16244.00024</td>\n",
       "      <td>11314.9995</td>\n",
       "      <td>8675.0000</td>\n",
       "      <td>10377.89982</td>\n",
       "      <td>13386.40016</td>\n",
       "      <td>8314.0000</td>\n",
       "      <td>8548.79976</td>\n",
       "      <td>6592.50000</td>\n",
       "      <td>8100.0005</td>\n",
       "      <td>103259.59978</td>\n",
       "    </tr>\n",
       "    <tr>\n",
       "      <th>2</th>\n",
       "      <td>2016-12-20</td>\n",
       "      <td>11694.9997</td>\n",
       "      <td>16304.00024</td>\n",
       "      <td>11354.9995</td>\n",
       "      <td>8652.9999</td>\n",
       "      <td>10409.40036</td>\n",
       "      <td>13408.00048</td>\n",
       "      <td>8332.0000</td>\n",
       "      <td>8618.40000</td>\n",
       "      <td>6604.19973</td>\n",
       "      <td>8212.4995</td>\n",
       "      <td>103591.49941</td>\n",
       "    </tr>\n",
       "  </tbody>\n",
       "</table>\n",
       "</div>"
      ],
      "text/plain": [
       "         Date        AAPL        GOOGL         BAC        JPM          JNJ  \\\n",
       "0  2016-12-22  11629.0001  16193.59986  11270.0005  8688.9999  10389.60018   \n",
       "1  2016-12-21  11705.9998  16244.00024  11314.9995  8675.0000  10377.89982   \n",
       "2  2016-12-20  11694.9997  16304.00024  11354.9995  8652.9999  10409.40036   \n",
       "\n",
       "           IBM         KO         WMT         LLY        PFE         Total  \n",
       "0  13364.79984  8309.9998  8350.79952  6593.40018  8085.0000  102875.19988  \n",
       "1  13386.40016  8314.0000  8548.79976  6592.50000  8100.0005  103259.59978  \n",
       "2  13408.00048  8332.0000  8618.40000  6604.19973  8212.4995  103591.49941  "
      ]
     },
     "execution_count": 707,
     "metadata": {},
     "output_type": "execute_result"
    }
   ],
   "source": [
    "#Adding up to get total daily portfolio value\n",
    "temp = full['AAPL'] + full['GOOGL'] + full['BAC'] + full['JPM'] + full['JNJ'] + full['IBM'] + full['KO'] + full['WMT'] + full['LLY'] + full['PFE']\n",
    "full['Total'] = temp\n",
    "full.head(3)"
   ]
  },
  {
   "cell_type": "markdown",
   "metadata": {
    "collapsed": true
   },
   "source": [
    "#### Calculating Delta and ln(Delta) to be used later to calculate YTD volatility"
   ]
  },
  {
   "cell_type": "code",
   "execution_count": 708,
   "metadata": {
    "collapsed": false
   },
   "outputs": [
    {
     "name": "stderr",
     "output_type": "stream",
     "text": [
      "c:\\python27\\lib\\site-packages\\ipykernel\\__main__.py:5: SettingWithCopyWarning: \n",
      "A value is trying to be set on a copy of a slice from a DataFrame.\n",
      "Try using .loc[row_indexer,col_indexer] = value instead\n",
      "\n",
      "See the caveats in the documentation: http://pandas.pydata.org/pandas-docs/stable/indexing.html#indexing-view-versus-copy\n",
      "c:\\python27\\lib\\site-packages\\ipykernel\\__main__.py:6: SettingWithCopyWarning: \n",
      "A value is trying to be set on a copy of a slice from a DataFrame.\n",
      "Try using .loc[row_indexer,col_indexer] = value instead\n",
      "\n",
      "See the caveats in the documentation: http://pandas.pydata.org/pandas-docs/stable/indexing.html#indexing-view-versus-copy\n",
      "c:\\python27\\lib\\site-packages\\ipykernel\\__main__.py:7: SettingWithCopyWarning: \n",
      "A value is trying to be set on a copy of a slice from a DataFrame.\n",
      "Try using .loc[row_indexer,col_indexer] = value instead\n",
      "\n",
      "See the caveats in the documentation: http://pandas.pydata.org/pandas-docs/stable/indexing.html#indexing-view-versus-copy\n"
     ]
    },
    {
     "data": {
      "text/html": [
       "<div>\n",
       "<table border=\"1\" class=\"dataframe\">\n",
       "  <thead>\n",
       "    <tr style=\"text-align: right;\">\n",
       "      <th></th>\n",
       "      <th>Date</th>\n",
       "      <th>AAPL</th>\n",
       "      <th>GOOGL</th>\n",
       "      <th>BAC</th>\n",
       "      <th>JPM</th>\n",
       "      <th>JNJ</th>\n",
       "      <th>IBM</th>\n",
       "      <th>KO</th>\n",
       "      <th>WMT</th>\n",
       "      <th>LLY</th>\n",
       "      <th>PFE</th>\n",
       "      <th>Total</th>\n",
       "      <th>Delta1</th>\n",
       "      <th>Log1</th>\n",
       "    </tr>\n",
       "  </thead>\n",
       "  <tbody>\n",
       "    <tr>\n",
       "      <th>0</th>\n",
       "      <td>2016-12-22</td>\n",
       "      <td>11629.0001</td>\n",
       "      <td>16193.59986</td>\n",
       "      <td>11270.0005</td>\n",
       "      <td>8688.9999</td>\n",
       "      <td>10389.60018</td>\n",
       "      <td>13364.79984</td>\n",
       "      <td>8309.9998</td>\n",
       "      <td>8350.79952</td>\n",
       "      <td>6593.40018</td>\n",
       "      <td>8085.0000</td>\n",
       "      <td>102875.19988</td>\n",
       "      <td>1.000000</td>\n",
       "      <td>0.000000</td>\n",
       "    </tr>\n",
       "    <tr>\n",
       "      <th>1</th>\n",
       "      <td>2016-12-21</td>\n",
       "      <td>11705.9998</td>\n",
       "      <td>16244.00024</td>\n",
       "      <td>11314.9995</td>\n",
       "      <td>8675.0000</td>\n",
       "      <td>10377.89982</td>\n",
       "      <td>13386.40016</td>\n",
       "      <td>8314.0000</td>\n",
       "      <td>8548.79976</td>\n",
       "      <td>6592.50000</td>\n",
       "      <td>8100.0005</td>\n",
       "      <td>103259.59978</td>\n",
       "      <td>1.003737</td>\n",
       "      <td>0.003730</td>\n",
       "    </tr>\n",
       "    <tr>\n",
       "      <th>2</th>\n",
       "      <td>2016-12-20</td>\n",
       "      <td>11694.9997</td>\n",
       "      <td>16304.00024</td>\n",
       "      <td>11354.9995</td>\n",
       "      <td>8652.9999</td>\n",
       "      <td>10409.40036</td>\n",
       "      <td>13408.00048</td>\n",
       "      <td>8332.0000</td>\n",
       "      <td>8618.40000</td>\n",
       "      <td>6604.19973</td>\n",
       "      <td>8212.4995</td>\n",
       "      <td>103591.49941</td>\n",
       "      <td>1.003214</td>\n",
       "      <td>0.003209</td>\n",
       "    </tr>\n",
       "  </tbody>\n",
       "</table>\n",
       "</div>"
      ],
      "text/plain": [
       "         Date        AAPL        GOOGL         BAC        JPM          JNJ  \\\n",
       "0  2016-12-22  11629.0001  16193.59986  11270.0005  8688.9999  10389.60018   \n",
       "1  2016-12-21  11705.9998  16244.00024  11314.9995  8675.0000  10377.89982   \n",
       "2  2016-12-20  11694.9997  16304.00024  11354.9995  8652.9999  10409.40036   \n",
       "\n",
       "           IBM         KO         WMT         LLY        PFE         Total  \\\n",
       "0  13364.79984  8309.9998  8350.79952  6593.40018  8085.0000  102875.19988   \n",
       "1  13386.40016  8314.0000  8548.79976  6592.50000  8100.0005  103259.59978   \n",
       "2  13408.00048  8332.0000  8618.40000  6604.19973  8212.4995  103591.49941   \n",
       "\n",
       "     Delta1      Log1  \n",
       "0  1.000000  0.000000  \n",
       "1  1.003737  0.003730  \n",
       "2  1.003214  0.003209  "
      ]
     },
     "execution_count": 708,
     "metadata": {},
     "output_type": "execute_result"
    }
   ],
   "source": [
    "#Calculating daily portfolio change and Log\n",
    "#full['Delta'] = full.Total.pct_change()\n",
    "#full['Delta'] = full['Delta'].astype(float).fillna(1)\n",
    "#full['Log'] = np.log(np.power(full['Delta'],2))\n",
    "full['Delta1'] = full['Total']/full['Total'].shift(1)\n",
    "full['Delta1'] = full['Delta1'].astype(float).fillna(1)\n",
    "full['Log1'] = np.log(full['Delta1'])\n",
    "full.head(3)"
   ]
  },
  {
   "cell_type": "code",
   "execution_count": 709,
   "metadata": {
    "collapsed": true
   },
   "outputs": [],
   "source": [
    "### Performing same for SPY to have a benchmark readings against my portfolio "
   ]
  },
  {
   "cell_type": "code",
   "execution_count": 710,
   "metadata": {
    "collapsed": false
   },
   "outputs": [
    {
     "data": {
      "text/html": [
       "<div>\n",
       "<table border=\"1\" class=\"dataframe\">\n",
       "  <thead>\n",
       "    <tr style=\"text-align: right;\">\n",
       "      <th></th>\n",
       "      <th>Adj_Close</th>\n",
       "      <th>Close</th>\n",
       "      <th>Date</th>\n",
       "      <th>High</th>\n",
       "      <th>Low</th>\n",
       "      <th>Open</th>\n",
       "      <th>Symbol</th>\n",
       "      <th>Volume</th>\n",
       "      <th>Delta1</th>\n",
       "      <th>Log1</th>\n",
       "    </tr>\n",
       "  </thead>\n",
       "  <tbody>\n",
       "    <tr>\n",
       "      <th>0</th>\n",
       "      <td>225.710007</td>\n",
       "      <td>225.710007</td>\n",
       "      <td>2016-12-23</td>\n",
       "      <td>225.720001</td>\n",
       "      <td>225.210007</td>\n",
       "      <td>225.429993</td>\n",
       "      <td>SPY</td>\n",
       "      <td>36251400</td>\n",
       "      <td>1.000000</td>\n",
       "      <td>0.000000</td>\n",
       "    </tr>\n",
       "    <tr>\n",
       "      <th>1</th>\n",
       "      <td>225.380005</td>\n",
       "      <td>225.380005</td>\n",
       "      <td>2016-12-22</td>\n",
       "      <td>225.740005</td>\n",
       "      <td>224.919998</td>\n",
       "      <td>225.600006</td>\n",
       "      <td>SPY</td>\n",
       "      <td>56219100</td>\n",
       "      <td>0.998538</td>\n",
       "      <td>-0.001463</td>\n",
       "    </tr>\n",
       "    <tr>\n",
       "      <th>2</th>\n",
       "      <td>225.770004</td>\n",
       "      <td>225.770004</td>\n",
       "      <td>2016-12-21</td>\n",
       "      <td>226.449997</td>\n",
       "      <td>225.770004</td>\n",
       "      <td>226.25</td>\n",
       "      <td>SPY</td>\n",
       "      <td>67909000</td>\n",
       "      <td>1.001730</td>\n",
       "      <td>0.001729</td>\n",
       "    </tr>\n",
       "  </tbody>\n",
       "</table>\n",
       "</div>"
      ],
      "text/plain": [
       "    Adj_Close       Close        Date        High         Low        Open  \\\n",
       "0  225.710007  225.710007  2016-12-23  225.720001  225.210007  225.429993   \n",
       "1  225.380005  225.380005  2016-12-22  225.740005  224.919998  225.600006   \n",
       "2  225.770004  225.770004  2016-12-21  226.449997  225.770004      226.25   \n",
       "\n",
       "  Symbol    Volume    Delta1      Log1  \n",
       "0    SPY  36251400  1.000000  0.000000  \n",
       "1    SPY  56219100  0.998538 -0.001463  \n",
       "2    SPY  67909000  1.001730  0.001729  "
      ]
     },
     "execution_count": 710,
     "metadata": {},
     "output_type": "execute_result"
    }
   ],
   "source": [
    "#getting SPY market data\n",
    "import numpy as np\n",
    "spy = Share('SPY')\n",
    "spyPE = spy.get_price_earnings_ratio()\n",
    "spyDiv = spy.get_dividend_yield()\n",
    "spy = spy.get_historical('2016-01-01', '2016-12-23')\n",
    "spy = pd.DataFrame(spy)\n",
    "#spy['Delta'] = full.Total.pct_change()\n",
    "#spy['Delta'] = spy['Delta'].astype(float).fillna(1)\n",
    "#spy['Log'] = np.log(np.power(spy['Delta'],2))\n",
    "spy['Close'] = spy['Close'].astype(float).fillna(1)\n",
    "spy['Delta1'] = spy['Close']/spy['Close'].shift(1)\n",
    "spy['Delta1'] = spy['Delta1'].astype(float).fillna(1)\n",
    "spy['Log1'] = np.log(spy['Delta1'])\n",
    "\n",
    "spy.head(3)"
   ]
  },
  {
   "cell_type": "markdown",
   "metadata": {},
   "source": [
    "#### Calculating equavalent number of shares equivalent to portfolio and then simulating an equial  investment into SPY in order to track relative performance."
   ]
  },
  {
   "cell_type": "code",
   "execution_count": 711,
   "metadata": {
    "collapsed": false
   },
   "outputs": [
    {
     "data": {
      "text/plain": [
       "456.24265727305425"
      ]
     },
     "execution_count": 711,
     "metadata": {},
     "output_type": "execute_result"
    }
   ],
   "source": [
    "# We will need to determine amount of SPY shares equivalent to the value of portfolio on 2016-01-04 in order to equally compare the two.\n",
    "\n",
    "portvalue = full.Total.iloc[-1]\n",
    "spyprice = spy.Close.iloc[-1]\n",
    "spyshares =  portvalue/float(spyprice)\n",
    "spyshares"
   ]
  },
  {
   "cell_type": "code",
   "execution_count": 712,
   "metadata": {
    "collapsed": false
   },
   "outputs": [
    {
     "data": {
      "text/html": [
       "<div>\n",
       "<table border=\"1\" class=\"dataframe\">\n",
       "  <thead>\n",
       "    <tr style=\"text-align: right;\">\n",
       "      <th></th>\n",
       "      <th>Adj_Close</th>\n",
       "      <th>Close</th>\n",
       "      <th>Date</th>\n",
       "      <th>High</th>\n",
       "      <th>Low</th>\n",
       "      <th>Open</th>\n",
       "      <th>Symbol</th>\n",
       "      <th>Volume</th>\n",
       "      <th>Delta1</th>\n",
       "      <th>Log1</th>\n",
       "      <th>Performance</th>\n",
       "    </tr>\n",
       "  </thead>\n",
       "  <tbody>\n",
       "    <tr>\n",
       "      <th>0</th>\n",
       "      <td>225.710007</td>\n",
       "      <td>225.710007</td>\n",
       "      <td>2016-12-23</td>\n",
       "      <td>225.720001</td>\n",
       "      <td>225.210007</td>\n",
       "      <td>225.429993</td>\n",
       "      <td>SPY</td>\n",
       "      <td>36251400</td>\n",
       "      <td>1.000000</td>\n",
       "      <td>0.000000</td>\n",
       "      <td>102978.533367</td>\n",
       "    </tr>\n",
       "    <tr>\n",
       "      <th>1</th>\n",
       "      <td>225.380005</td>\n",
       "      <td>225.380005</td>\n",
       "      <td>2016-12-22</td>\n",
       "      <td>225.740005</td>\n",
       "      <td>224.919998</td>\n",
       "      <td>225.600006</td>\n",
       "      <td>SPY</td>\n",
       "      <td>56219100</td>\n",
       "      <td>0.998538</td>\n",
       "      <td>-0.001463</td>\n",
       "      <td>102827.972377</td>\n",
       "    </tr>\n",
       "    <tr>\n",
       "      <th>2</th>\n",
       "      <td>225.770004</td>\n",
       "      <td>225.770004</td>\n",
       "      <td>2016-12-21</td>\n",
       "      <td>226.449997</td>\n",
       "      <td>225.770004</td>\n",
       "      <td>226.25</td>\n",
       "      <td>SPY</td>\n",
       "      <td>67909000</td>\n",
       "      <td>1.001730</td>\n",
       "      <td>0.001729</td>\n",
       "      <td>103005.906558</td>\n",
       "    </tr>\n",
       "  </tbody>\n",
       "</table>\n",
       "</div>"
      ],
      "text/plain": [
       "    Adj_Close       Close        Date        High         Low        Open  \\\n",
       "0  225.710007  225.710007  2016-12-23  225.720001  225.210007  225.429993   \n",
       "1  225.380005  225.380005  2016-12-22  225.740005  224.919998  225.600006   \n",
       "2  225.770004  225.770004  2016-12-21  226.449997  225.770004      226.25   \n",
       "\n",
       "  Symbol    Volume    Delta1      Log1    Performance  \n",
       "0    SPY  36251400  1.000000  0.000000  102978.533367  \n",
       "1    SPY  56219100  0.998538 -0.001463  102827.972377  \n",
       "2    SPY  67909000  1.001730  0.001729  103005.906558  "
      ]
     },
     "execution_count": 712,
     "metadata": {},
     "output_type": "execute_result"
    }
   ],
   "source": [
    "#Next we will need to simulate performance of 456.24 SPY shares year to date.\n",
    "spy['Performance'] = spy.Close.astype(float) * float(spyshares)\n",
    "spy.head(3)"
   ]
  },
  {
   "cell_type": "code",
   "execution_count": 713,
   "metadata": {
    "collapsed": false
   },
   "outputs": [],
   "source": [
    "#reversing order\n",
    "#full = full.iloc[::-1]\n",
    "#full.reindex\n",
    "#full.head(3)"
   ]
  },
  {
   "cell_type": "code",
   "execution_count": 714,
   "metadata": {
    "collapsed": false
   },
   "outputs": [],
   "source": [
    "#test = df.sort('one', ascending=False)\n",
    "#spy.sort_values(['Date'], ascending=[False])\n",
    "#spy.head(3)"
   ]
  },
  {
   "cell_type": "markdown",
   "metadata": {
    "collapsed": true
   },
   "source": [
    "#### Ploting Portfolio vs SPY in one chart"
   ]
  },
  {
   "cell_type": "code",
   "execution_count": 715,
   "metadata": {
    "collapsed": false
   },
   "outputs": [
    {
     "data": {
      "image/png": "[encoded data removed]",
      "text/plain": [
       "<matplotlib.figure.Figure at 0xb044630>"
      ]
     },
     "metadata": {},
     "output_type": "display_data"
    }
   ],
   "source": [
    "import matplotlib.pyplot as plt\n",
    "plt.plot(spy.Performance, 'r')\n",
    "plt.plot(full.Total, 'b')\n",
    "plt.ylabel('$ Value')\n",
    "plt.xlabel('Trading Days from 2016-01-04')\n",
    "plt.gca().invert_xaxis()\n",
    "plt.show()"
   ]
  },
  {
   "cell_type": "code",
   "execution_count": 716,
   "metadata": {
    "collapsed": false
   },
   "outputs": [
    {
     "data": {
      "text/plain": [
       "12.28"
      ]
     },
     "execution_count": 716,
     "metadata": {},
     "output_type": "execute_result"
    }
   ],
   "source": [
    "#SPY YTD Performance\n",
    "spyperf = float(spy.Performance[0])/float(spy.Performance[247])\n",
    "spyperf = round((spyperf-1)*100,2)\n",
    "spyperf"
   ]
  },
  {
   "cell_type": "code",
   "execution_count": 717,
   "metadata": {
    "collapsed": false
   },
   "outputs": [
    {
     "data": {
      "text/plain": [
       "12.17"
      ]
     },
     "execution_count": 717,
     "metadata": {},
     "output_type": "execute_result"
    }
   ],
   "source": [
    "#Portfolio YTD Performance\n",
    "portperf = float(full.Total.iloc[0])/float(full.Total.iloc[-1])\n",
    "portperf = round((portperf-1)*100,2)\n",
    "portperf"
   ]
  },
  {
   "cell_type": "code",
   "execution_count": 718,
   "metadata": {
    "collapsed": false
   },
   "outputs": [
    {
     "data": {
      "text/plain": [
       "0.1303384181281427"
      ]
     },
     "execution_count": 718,
     "metadata": {},
     "output_type": "execute_result"
    }
   ],
   "source": [
    "#Calculating SPY Realized YTD volatility\n",
    "import math\n",
    "spyvol = spy.Log1.std()*math.sqrt(len(spy))\n",
    "spyvol"
   ]
  },
  {
   "cell_type": "code",
   "execution_count": 719,
   "metadata": {
    "collapsed": false
   },
   "outputs": [
    {
     "data": {
      "text/plain": [
       "0.1239100528658134"
      ]
     },
     "execution_count": 719,
     "metadata": {},
     "output_type": "execute_result"
    }
   ],
   "source": [
    "import math\n",
    "portvol = full.Log1.std()*math.sqrt(len(full))\n",
    "portvol"
   ]
  },
  {
   "cell_type": "code",
   "execution_count": 720,
   "metadata": {
    "collapsed": false
   },
   "outputs": [
    {
     "name": "stdout",
     "output_type": "stream",
     "text": [
      "Portfolio Performance\n",
      "-----------------------\n",
      "Portfolio YTD: 12.17\n",
      "Portfolio PE: 21.03\n",
      "Portfolio Div: 2.26\n",
      "Portfolio YTD Volatility: 12.39\n",
      "-----------------------\n",
      "S&P 500 Performance\n",
      "-----------------------\n",
      "S&P 500 YTD: 12.28\n",
      "S&P 500 PE: 26.04\n",
      "S&P 500 Div: 1.99\n",
      "S&P 500 YTD Volatility: 13.03\n",
      "-----------------------\n",
      "Note: PE ratio and Dividend yeild for S&P 500 have been retrieved and entered manually since yahoo API does not send anything for those values since we are using SPY and it is an ETF\n"
     ]
    }
   ],
   "source": [
    "print \"Portfolio Performance\"\n",
    "print\"-----------------------\"\n",
    "print \"Portfolio YTD: %.2f\" %(portperf)\n",
    "print \"Portfolio PE: %.2f\" %(portPE)\n",
    "print \"Portfolio Div: %.2f\" %(PortDiv)\n",
    "print \"Portfolio YTD Volatility: %.2f\" %(portvol*100)\n",
    "print\"-----------------------\"\n",
    "print \"S&P 500 Performance\"\n",
    "print\"-----------------------\"\n",
    "print \"S&P 500 YTD: %.2f\" %(spyperf)\n",
    "print \"S&P 500 PE: 26.04\"\n",
    "print \"S&P 500 Div: 1.99\"\n",
    "print \"S&P 500 YTD Volatility: %.2f\" %(spyvol*100)\n",
    "print\"-----------------------\"\n",
    "print \"Note: PE ratio and Dividend yeild for S&P 500 have been retrieved and entered manually since yahoo API does not send anything for those values since we are using SPY and it is an ETF\""
   ]
  },
  {
   "cell_type": "code",
   "execution_count": 786,
   "metadata": {
    "collapsed": false
   },
   "outputs": [],
   "source": [
    "# Calculating 10 day vol for spy\n",
    "import numpy\n",
    "spyvol10 = []\n",
    "for i in range(1,238):\n",
    "    list = [spy.Log1.iloc[i], spy.Log1.iloc[i+1], spy.Log1.iloc[i+2], spy.Log1.iloc[i+3], spy.Log1.iloc[i+4], spy.Log1.iloc[i+5], spy.Log1.iloc[i+6], spy.Log1.iloc[i+7], spy.Log1.iloc[i+8], spy.Log1.iloc[i+9]]\n",
    "    ten_std = numpy.std(list)\n",
    "    spyvol10.append(ten_std*math.sqrt(10))\n"
   ]
  },
  {
   "cell_type": "code",
   "execution_count": 791,
   "metadata": {
    "collapsed": false
   },
   "outputs": [],
   "source": [
    "# Calculating 10 day vol for port\n",
    "portvol10 = []\n",
    "for i in range(1,236):\n",
    "    list = [full.Log1.iloc[i], full.Log1.iloc[i+1], full.Log1.iloc[i+2], full.Log1.iloc[i+3], full.Log1.iloc[i+4], full.Log1.iloc[i+5], full.Log1.iloc[i+6], full.Log1.iloc[i+7], full.Log1.iloc[i+8], full.Log1.iloc[i+9]]\n",
    "    ten_std = numpy.std(list)\n",
    "    portvol10.append(ten_std*math.sqrt(10))"
   ]
  },
  {
   "cell_type": "code",
   "execution_count": 794,
   "metadata": {
    "collapsed": false
   },
   "outputs": [
    {
     "data": {
      "image/png": "[encoded data removed]",
      "text/plain": [
       "<matplotlib.figure.Figure at 0xb41e450>"
      ]
     },
     "metadata": {},
     "output_type": "display_data"
    }
   ],
   "source": [
    "import matplotlib.pyplot as plt\n",
    "plt.plot(spyvol10, 'r')\n",
    "plt.plot(portvol10, 'b')\n",
    "plt.ylabel('10 Day Volatility')\n",
    "plt.xlabel('Trading Days from 2016-01-04')\n",
    "plt.gca().invert_xaxis()\n",
    "plt.show()"
   ]
  },
  {
   "cell_type": "markdown",
   "metadata": {},
   "source": [
    "#### Summary:  It has been a fun project and I feel that I have learned a lot from it. I had to change couple of minor things as I realized some of the limitations of my plan only after I got started with it. I found a number of disapointing limitations in yahoo API, but since it is a free source I it is good enough. \n",
    "#### In the future would like to see if I can improve some sections of this code.  Also I would like to try to connect to Interactive Brokers API and to to get options market data so that I could compare relaized volatility vs implied volatility, it would also  be interesting to play with intraday and/or realtime market data. \n",
    "#### I have started another interesting finance project in R for my 607 class (http://rpubs.com/jelikish/236767). I think I will try to implement it in python during the winter break."
   ]
  }
 ],
 "metadata": {
  "kernelspec": {
   "display_name": "Python 2",
   "language": "python",
   "name": "python2"
  },
  "language_info": {
   "codemirror_mode": {
    "name": "ipython",
    "version": 2
   },
   "file_extension": ".py",
   "mimetype": "text/x-python",
   "name": "python",
   "nbconvert_exporter": "python",
   "pygments_lexer": "ipython2",
   "version": "2.7.10"
  }
 },
 "nbformat": 4,
 "nbformat_minor": 2
}
