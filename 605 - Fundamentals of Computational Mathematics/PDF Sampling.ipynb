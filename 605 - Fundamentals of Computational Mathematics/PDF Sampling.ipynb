{
 "cells": [
  {
   "cell_type": "markdown",
   "metadata": {},
   "source": [
    "# Sampling From PDF using NumPy\n",
    "\n",
    "Lets define the functions from the homework for the PDF:"
   ]
  },
  {
   "cell_type": "code",
   "execution_count": 1,
   "metadata": {
    "collapsed": true
   },
   "outputs": [],
   "source": [
    "import random\n",
    "import numpy as np"
   ]
  },
  {
   "cell_type": "code",
   "execution_count": 2,
   "metadata": {
    "collapsed": true,
    "deletable": true,
    "editable": true
   },
   "outputs": [],
   "source": [
    "def pdf1(x):\n",
    "    if x >= 0 and x <= 1: return x\n",
    "    elif x > 1 and x <= 2: return 2 - x \n",
    "    else: return 0"
   ]
  },
  {
   "cell_type": "code",
   "execution_count": 3,
   "metadata": {
    "collapsed": true
   },
   "outputs": [],
   "source": [
    "def pdf2(x):\n",
    "    if x >= 0 and x <= 1: return 1 - x\n",
    "    elif x > 1 and x <= 2: return x - 1\n",
    "    else: return 0"
   ]
  },
  {
   "cell_type": "markdown",
   "metadata": {},
   "source": [
    "To sample, lets cut up the domain into tiny discrete pieces using linspace, which returns a list. Once we do that, we loop through the list and get values from the PDF, which represent the probability of getting that x: "
   ]
  },
  {
   "cell_type": "code",
   "execution_count": 4,
   "metadata": {
    "collapsed": false
   },
   "outputs": [],
   "source": [
    "# create x vector of values from [0,2]\n",
    "x = np.linspace(0, 2, num=1000, endpoint=True)\n",
    "# print(x)\n",
    "\n",
    "# create p(x) vector based on pdf1\n",
    "p = [ pdf1(i) for i in x ]\n",
    "sump = sum(p)\n",
    "p = [ i / sump for i in p ]"
   ]
  },
  {
   "cell_type": "markdown",
   "metadata": {},
   "source": [
    "Lets plot the PDF, which maps an x value to p(x):"
   ]
  },
  {
   "cell_type": "code",
   "execution_count": 5,
   "metadata": {
    "collapsed": false
   },
   "outputs": [
    {
     "data": {
      "image/png": "[encoded data removed]",
      "text/plain": [
       "<matplotlib.figure.Figure at 0x7fcd94859208>"
      ]
     },
     "metadata": {},
     "output_type": "display_data"
    }
   ],
   "source": [
    "%matplotlib inline\n",
    "import matplotlib.pyplot as plt\n",
    "plt.hist([ np.random.choice(x, size=None, replace=True, p=p) for i in range(20000) ], \n",
    "        bins=[ 0 + i*(2/len(x)) for i in range(len(x))])\n",
    "plt.show()"
   ]
  },
  {
   "cell_type": "markdown",
   "metadata": {},
   "source": [
    "Same but for PDF2:"
   ]
  },
  {
   "cell_type": "code",
   "execution_count": 6,
   "metadata": {
    "collapsed": true
   },
   "outputs": [],
   "source": [
    "# create x vector of values from [0,2]\n",
    "x = np.linspace(0, 2, num=1000, endpoint=True)\n",
    "\n",
    "# create p(x) vector based on pdf1\n",
    "p = [ pdf2(i) for i in x ]\n",
    "sump = sum(p)\n",
    "p = [ i / sump for i in p ]"
   ]
  },
  {
   "cell_type": "code",
   "execution_count": 7,
   "metadata": {
    "collapsed": false
   },
   "outputs": [
    {
     "data": {
      "image/png": "[encoded data removed]",
      "text/plain": [
       "<matplotlib.figure.Figure at 0x7fcd853470f0>"
      ]
     },
     "metadata": {},
     "output_type": "display_data"
    }
   ],
   "source": [
    "%matplotlib inline\n",
    "import matplotlib.pyplot as plt\n",
    "plt.hist([ np.random.choice(x, size=None, replace=True, p=p) for i in range(20000) ],\n",
    "               bins=[ 0 + i*(2/len(x)) for i in range(len(x))])\n",
    "plt.show()"
   ]
  },
  {
   "cell_type": "markdown",
   "metadata": {},
   "source": [
    "The Central Limit Theorem talks about getting samples of size n, and looking at the distribution of the means of these samples. Here I write a function to automate what we do above but for many samples:"
   ]
  },
  {
   "cell_type": "code",
   "execution_count": 8,
   "metadata": {
    "collapsed": true
   },
   "outputs": [],
   "source": [
    "def clt(pdf, n):\n",
    "    means = []\n",
    "\n",
    "    # create x vector of values from [0,2]\n",
    "    x = np.linspace(0, 2, num=1000, endpoint=True)\n",
    "\n",
    "    # create p(x) vector based on pdf1\n",
    "    p = [ pdf2(i) for i in x ]\n",
    "    sump = sum(p)\n",
    "    p = [ i / sump for i in p ]\n",
    "\n",
    "    for idx, i in enumerate(range(1000)):\n",
    "        if idx % 100 == 0: print(\"iter {}\".format(idx))\n",
    "        sample = [ np.random.choice(x, size=None, replace=True, p=p) for i in range(n) ]\n",
    "        means.append( np.mean(sample) )\n",
    "    \n",
    "    return means"
   ]
  },
  {
   "cell_type": "markdown",
   "metadata": {},
   "source": [
    "Lets run the CLT on PDF1:"
   ]
  },
  {
   "cell_type": "code",
   "execution_count": 9,
   "metadata": {
    "collapsed": false
   },
   "outputs": [
    {
     "name": "stdout",
     "output_type": "stream",
     "text": [
      "iter 0\n",
      "iter 100\n",
      "iter 200\n",
      "iter 300\n",
      "iter 400\n",
      "iter 500\n",
      "iter 600\n",
      "iter 700\n",
      "iter 800\n",
      "iter 900\n"
     ]
    },
    {
     "data": {
      "image/png": "[encoded data removed]",
      "text/plain": [
       "<matplotlib.figure.Figure at 0x7fcd873e1d68>"
      ]
     },
     "metadata": {},
     "output_type": "display_data"
    }
   ],
   "source": [
    "means = clt(pdf1, 1000)\n",
    "plt.hist(means)\n",
    "plt.show()"
   ]
  },
  {
   "cell_type": "markdown",
   "metadata": {},
   "source": [
    "Lets run the CLT on PDF2:"
   ]
  },
  {
   "cell_type": "code",
   "execution_count": 11,
   "metadata": {
    "collapsed": false
   },
   "outputs": [
    {
     "name": "stdout",
     "output_type": "stream",
     "text": [
      "iter 0\n",
      "iter 100\n",
      "iter 200\n",
      "iter 300\n",
      "iter 400\n",
      "iter 500\n",
      "iter 600\n",
      "iter 700\n",
      "iter 800\n",
      "iter 900\n"
     ]
    },
    {
     "data": {
      "image/png": "[encoded data removed]",
      "text/plain": [
       "<matplotlib.figure.Figure at 0x7fcd84b0a3c8>"
      ]
     },
     "metadata": {},
     "output_type": "display_data"
    }
   ],
   "source": [
    "means = clt(pdf2, 1000)\n",
    "plt.hist(means)\n",
    "plt.show()"
   ]
  },
  {
   "cell_type": "markdown",
   "metadata": {},
   "source": [
    "Despite being from a strange custom PDF, the sample means seem normally distributed!"
   ]
  },
  {
   "cell_type": "code",
   "execution_count": null,
   "metadata": {
    "collapsed": true
   },
   "outputs": [],
   "source": []
  }
 ],
 "metadata": {
  "kernelspec": {
   "display_name": "Python 3",
   "language": "python",
   "name": "python3"
  },
  "language_info": {
   "codemirror_mode": {
    "name": "ipython",
    "version": 3
   },
   "file_extension": ".py",
   "mimetype": "text/x-python",
   "name": "python",
   "nbconvert_exporter": "python",
   "pygments_lexer": "ipython3",
   "version": "3.5.2"
  }
 },
 "nbformat": 4,
 "nbformat_minor": 2
}
